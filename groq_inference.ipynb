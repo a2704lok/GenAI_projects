{
 "cells": [
  {
   "cell_type": "code",
   "execution_count": 2,
   "id": "f0b75a12-1d6e-4931-9117-ab09a337cee5",
   "metadata": {},
   "outputs": [
    {
     "name": "stdout",
     "output_type": "stream",
     "text": [
      "Python 3.10.16\n"
     ]
    }
   ],
   "source": [
    "!python --version"
   ]
  },
  {
   "cell_type": "code",
   "execution_count": 51,
   "id": "398d8f79-37ad-43ef-ade5-8b851967f6a9",
   "metadata": {},
   "outputs": [],
   "source": [
    "GROQ_API_KEY = \"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\"\n"
   ]
  },
  {
   "cell_type": "code",
   "execution_count": 84,
   "id": "652b4efd-d6f4-4549-abf4-b775811e2bad",
   "metadata": {},
   "outputs": [],
   "source": [
    "import os\n",
    "from operator import itemgetter\n",
    "from langchain_groq import ChatGroq\n",
    "from langchain_core.messages import HumanMessage, SystemMessage\n",
    "from langchain_core.output_parsers import StrOutputParser\n",
    "from langchain_core.prompts import ChatPromptTemplate\n",
    "from langchain_core.runnables import RunnablePassthrough\n",
    "from langchain_core.messages import AIMessage, SystemMessage, trim_messages\n",
    "from langchain_core.chat_history import BaseChatMessageHistory\n",
    "from langchain_core.runnables.history import RunnableWithMessageHistory\n",
    "from langchain_core.prompts import ChatPromptTemplate, MessagesPlaceholder\n",
    "from langchain_core.runnables import RunnablePassthrough\n",
    "from langchain_community.chat_message_histories import ChatMessageHistory\n",
    "\n",
    "\n",
    "import warnings\n",
    "warnings.filterwarnings(\"ignore\")\n",
    "\n"
   ]
  },
  {
   "cell_type": "code",
   "execution_count": 52,
   "id": "33509119-97d5-4f84-a42f-5721237d4e68",
   "metadata": {},
   "outputs": [],
   "source": [
    "model = ChatGroq(model = \"Gemma2-9b-It\",groq_api_key = GROQ_API_KEY)"
   ]
  },
  {
   "cell_type": "code",
   "execution_count": 53,
   "id": "c910dd65-4111-4c35-a8bb-198d16f19b08",
   "metadata": {},
   "outputs": [
    {
     "data": {
      "text/plain": [
       "ChatGroq(client=<groq.resources.chat.completions.Completions object at 0x0000027E4AA90A60>, async_client=<groq.resources.chat.completions.AsyncCompletions object at 0x0000027E4AA917E0>, model_name='Gemma2-9b-It', model_kwargs={}, groq_api_key=SecretStr('**********'))"
      ]
     },
     "execution_count": 53,
     "metadata": {},
     "output_type": "execute_result"
    }
   ],
   "source": [
    "model"
   ]
  },
  {
   "cell_type": "code",
   "execution_count": 54,
   "id": "cc35cd81-0225-4810-a5b6-beb1102fab1a",
   "metadata": {},
   "outputs": [
    {
     "data": {
      "text/plain": [
       "\"When to Use SystemMessage vs. Just HumanMessage\\nIf you want strict control over the model's behavior → Use SystemMessage.\\nIf it's a one-time query and clarity isn't a concern → HumanMessage can work.\""
      ]
     },
     "execution_count": 54,
     "metadata": {},
     "output_type": "execute_result"
    }
   ],
   "source": [
    "messages = [\n",
    "            SystemMessage(content = \"Translate the following from english to french\"),\n",
    "            HumanMessage(content = \"Hello how are you?\")\n",
    "]\n",
    "\n",
    "'''SystemMessages Provides high-level instructions to the AI model.\n",
    "Sets the behavior, tone, or context of the conversation.\n",
    "Not visible to the user, only to the model.'''\n",
    "\n",
    "'''When to Use SystemMessage vs. Just HumanMessage\n",
    "If you want strict control over the model's behavior → Use SystemMessage.\n",
    "If it's a one-time query and clarity isn't a concern → HumanMessage can work.'''"
   ]
  },
  {
   "cell_type": "code",
   "execution_count": 55,
   "id": "7f3afd6b-6eae-4dc8-bbe0-379d37090e39",
   "metadata": {},
   "outputs": [],
   "source": [
    "result = model.invoke(messages)"
   ]
  },
  {
   "cell_type": "code",
   "execution_count": 56,
   "id": "fde3e349-1717-4546-a1e6-73118a4d770e",
   "metadata": {},
   "outputs": [
    {
     "data": {
      "text/plain": [
       "AIMessage(content=\"The most common translation is:\\n\\n**Bonjour, comment allez-vous ?** \\n\\nThis is a formal way of greeting someone. \\n\\nHere are some other options:\\n\\n* **Salut, ça va ?** (informal)\\n* **Coucou, comment vas-tu ?** (very informal, used with friends)\\n\\n\\nLet me know if you'd like more variations!\\n\", additional_kwargs={}, response_metadata={'token_usage': {'completion_tokens': 82, 'prompt_tokens': 21, 'total_tokens': 103, 'completion_time': 0.149090909, 'prompt_time': 0.002212357, 'queue_time': 0.232886503, 'total_time': 0.151303266}, 'model_name': 'Gemma2-9b-It', 'system_fingerprint': 'fp_10c08bf97d', 'finish_reason': 'stop', 'logprobs': None}, id='run-7d02db40-1bbe-4b4e-aae9-1e68e74473fc-0', usage_metadata={'input_tokens': 21, 'output_tokens': 82, 'total_tokens': 103})"
      ]
     },
     "execution_count": 56,
     "metadata": {},
     "output_type": "execute_result"
    }
   ],
   "source": [
    "result"
   ]
  },
  {
   "cell_type": "code",
   "execution_count": 9,
   "id": "7d745cec-132a-4e5e-9dda-39628fec6664",
   "metadata": {},
   "outputs": [
    {
     "data": {
      "text/plain": [
       "'Bonjour, comment allez-vous ? \\n\\n\\nYou can also use the more informal:\\n\\n* Salut, ça va ? \\n\\n'"
      ]
     },
     "execution_count": 9,
     "metadata": {},
     "output_type": "execute_result"
    }
   ],
   "source": [
    "parser = StrOutputParser()\n",
    "parser.invoke(result)"
   ]
  },
  {
   "cell_type": "code",
   "execution_count": 10,
   "id": "bb66b3f1-e214-4293-aa05-f13e688d464b",
   "metadata": {},
   "outputs": [],
   "source": [
    "chain = model | parser"
   ]
  },
  {
   "cell_type": "code",
   "execution_count": 11,
   "id": "23faffe1-ac65-4d0a-aeaf-cb37a83f3685",
   "metadata": {},
   "outputs": [
    {
     "data": {
      "text/plain": [
       "'The most common way to say \"Hello, how are you?\" in French is:\\n\\n**Salut, comment vas-tu ?**  (Informal - used with friends and family) \\n\\n**Bonjour, comment allez-vous ?** (Formal - used with strangers or people you respect) \\n\\n\\nLet me know if you\\'d like to know other ways to say it!\\n'"
      ]
     },
     "execution_count": 11,
     "metadata": {},
     "output_type": "execute_result"
    }
   ],
   "source": [
    "chain.invoke(messages)"
   ]
  },
  {
   "cell_type": "code",
   "execution_count": 12,
   "id": "f17fb927-7864-4cfa-bf7d-62885045138b",
   "metadata": {},
   "outputs": [],
   "source": [
    "generic_template = \"Translate the following into {language}:\""
   ]
  },
  {
   "cell_type": "code",
   "execution_count": 13,
   "id": "b5032475-57fb-4d43-afa4-944f24faefb0",
   "metadata": {},
   "outputs": [],
   "source": [
    "prompt = ChatPromptTemplate.from_messages([\n",
    "          (\"system\",generic_template),\n",
    "          (\"user\",\"{text}\")    \n",
    "])"
   ]
  },
  {
   "cell_type": "code",
   "execution_count": 14,
   "id": "eab1b8a8-69eb-4673-82a1-5bcbdfff806a",
   "metadata": {},
   "outputs": [
    {
     "data": {
      "text/plain": [
       "[SystemMessage(content='Translate the following into french:', additional_kwargs={}, response_metadata={}),\n",
       " HumanMessage(content='Hello', additional_kwargs={}, response_metadata={})]"
      ]
     },
     "execution_count": 14,
     "metadata": {},
     "output_type": "execute_result"
    }
   ],
   "source": [
    "res = prompt.invoke({\"language\":\"french\",\"text\":\"Hello\"})\n",
    "res.to_messages()"
   ]
  },
  {
   "cell_type": "code",
   "execution_count": 15,
   "id": "27534c34-6c95-4c31-aa2e-edbc12635f69",
   "metadata": {},
   "outputs": [],
   "source": [
    "chain = prompt | model | parser"
   ]
  },
  {
   "cell_type": "code",
   "execution_count": 36,
   "id": "560125eb-777a-4128-9549-958a9be73459",
   "metadata": {},
   "outputs": [
    {
     "data": {
      "text/plain": [
       "'Bonjour  \\n'"
      ]
     },
     "execution_count": 36,
     "metadata": {},
     "output_type": "execute_result"
    }
   ],
   "source": [
    "chain.invoke({\"language\": \"french\",\"text\": \"hello\"})"
   ]
  },
  {
   "cell_type": "code",
   "execution_count": null,
   "id": "70c4f2c2-76dd-4e9c-a7b0-73dfc8c43cc3",
   "metadata": {},
   "outputs": [],
   "source": [
    "#### other way"
   ]
  },
  {
   "cell_type": "code",
   "execution_count": null,
   "id": "459eb7a7-67a8-4d0e-9151-68ac75022f69",
   "metadata": {},
   "outputs": [],
   "source": [
    "generic_template = SystemMessage(content=\"Translate the following into {language}:\")\n",
    "user_template = HumanMessage(content=\"{text}\")\n",
    "\n",
    "prompt = ChatPromptTemplate.from_messages([\n",
    "    generic_template,  # System message\n",
    "    user_template      # User message\n",
    "])\n",
    "\n",
    "res = prompt.invoke({\"language\": \"french\", \"text\": \"Hello\"})\n",
    "messages = res.to_messages()\n"
   ]
  },
  {
   "cell_type": "code",
   "execution_count": null,
   "id": "4fb47c0a-e121-4d63-a39b-f475bb8a47cc",
   "metadata": {},
   "outputs": [],
   "source": [
    "def get_dynamic_prompt(include_context: bool = False):\n",
    "    \"\"\"Dynamically creates a prompt template based on user preference.\"\"\"\n",
    "    messages = [\n",
    "        (\"system\", \"Translate the following into {language}:\")\n",
    "    ]\n",
    "    \n",
    "    if include_context:\n",
    "        messages.append((\"system\", \"Context: {context}\"))\n",
    "    \n",
    "    messages.append((\"user\", \"{text}\"))\n",
    "\n",
    "    return ChatPromptTemplate.from_messages(messages)\n",
    "\n",
    "# Case 1: Basic Translation (No Context)\n",
    "prompt1 = get_dynamic_prompt(include_context=False)\n",
    "res1 = prompt1.invoke({\"language\": \"French\", \"text\": \"Hello\"})\n",
    "print(\"Basic Translation Messages:\", res1.to_messages())\n",
    "\n",
    "# Case 2: Translation with Context\n",
    "prompt2 = get_dynamic_prompt(include_context=True)\n",
    "res2 = prompt2.invoke({\"language\": \"French\", \"text\": \"Hello\", \"context\": \"Use a formal tone\"})\n",
    "print(\"Translation with Context Messages:\", res2.to_messages())\n"
   ]
  },
  {
   "cell_type": "code",
   "execution_count": 37,
   "id": "c283f6ef-a4bb-4f87-8d2c-4f54a49fd51e",
   "metadata": {},
   "outputs": [],
   "source": [
    "#############################################################################################################################"
   ]
  },
  {
   "cell_type": "code",
   "execution_count": 38,
   "id": "d81be2ff-56c6-4cbf-b14b-43af2da9ccf9",
   "metadata": {},
   "outputs": [],
   "source": [
    "# building chatbot with message history"
   ]
  },
  {
   "cell_type": "code",
   "execution_count": 39,
   "id": "2b81af6b-235d-4518-a993-d7014dc9d34c",
   "metadata": {},
   "outputs": [
    {
     "data": {
      "text/plain": [
       "AIMessage(content=\"Hi Alok! It's nice to meet you.  \\n\\nAs an AI engineer, what kind of projects are you working on these days?  \\n\\nI'm always interested in learning more about the work being done in the field of AI.\\n\", additional_kwargs={}, response_metadata={'token_usage': {'completion_tokens': 54, 'prompt_tokens': 20, 'total_tokens': 74, 'completion_time': 0.098181818, 'prompt_time': 0.001983657, 'queue_time': 0.234412493, 'total_time': 0.100165475}, 'model_name': 'Gemma2-9b-It', 'system_fingerprint': 'fp_10c08bf97d', 'finish_reason': 'stop', 'logprobs': None}, id='run-f96920c5-537e-4530-a54f-5d295225e4b3-0', usage_metadata={'input_tokens': 20, 'output_tokens': 54, 'total_tokens': 74})"
      ]
     },
     "execution_count": 39,
     "metadata": {},
     "output_type": "execute_result"
    }
   ],
   "source": [
    "model.invoke([HumanMessage(content = \"Hi I am Alok and I am an AI engineer\")])"
   ]
  },
  {
   "cell_type": "code",
   "execution_count": 43,
   "id": "51686cd6-b2d0-4f8f-8541-650b0dd151d9",
   "metadata": {},
   "outputs": [
    {
     "data": {
      "text/plain": [
       "AIMessage(content=\"You told me your name is Alok and that you are an AI engineer.  😊  \\n\\nIs there anything else you'd like to tell me about your work?  I'm curious to hear more!\\n\", additional_kwargs={}, response_metadata={'token_usage': {'completion_tokens': 47, 'prompt_tokens': 88, 'total_tokens': 135, 'completion_time': 0.085454545, 'prompt_time': 0.004135291, 'queue_time': 0.233859517, 'total_time': 0.089589836}, 'model_name': 'Gemma2-9b-It', 'system_fingerprint': 'fp_10c08bf97d', 'finish_reason': 'stop', 'logprobs': None}, id='run-3ae80d4a-6b73-4995-bf1e-6483e5c027f1-0', usage_metadata={'input_tokens': 88, 'output_tokens': 47, 'total_tokens': 135})"
      ]
     },
     "execution_count": 43,
     "metadata": {},
     "output_type": "execute_result"
    }
   ],
   "source": [
    "model.invoke(\n",
    "    [\n",
    "        HumanMessage(content = \"Hi I am Alok and I am an AI engineer\"),\n",
    "        AIMessage(content = \"Hi Alok! It's nice to meet you. As an AI engineer, what kind of projects are you working on these days?   \\\n",
    "        I'm always interested in learning more about the work being done in the field of AI.\"),\n",
    "        HumanMessage(content = \"Hey whats my name and what do I do?\")\n",
    "    ]\n",
    ")"
   ]
  },
  {
   "cell_type": "code",
   "execution_count": 50,
   "id": "0c3928af-a1e2-44dd-823a-78d6195ba533",
   "metadata": {},
   "outputs": [],
   "source": [
    "store = {}\n",
    "def get_session_history(session_id:str)-> BaseChatMessageHistory:\n",
    "    if session_id not in store:\n",
    "        store[session_id] = ChatMessageHistory()\n",
    "    return store[session_id]\n",
    "\n",
    "with_message_history = RunnableWithMessageHistory(model,get_session_history)    "
   ]
  },
  {
   "cell_type": "code",
   "execution_count": 53,
   "id": "62c49b67-8031-4580-9aa6-1c3c21b367d7",
   "metadata": {},
   "outputs": [],
   "source": [
    "config = {\"configurable\":{\"session_id\":\"chat1\"}}"
   ]
  },
  {
   "cell_type": "code",
   "execution_count": 55,
   "id": "67c093d7-7f13-4467-bf15-26713d644a90",
   "metadata": {},
   "outputs": [],
   "source": [
    "response = with_message_history.invoke(\n",
    "    [HumanMessage(content = \"Hi I am Alok and I am an AI engineer\")],\n",
    "    config = config\n",
    ")"
   ]
  },
  {
   "cell_type": "code",
   "execution_count": 56,
   "id": "b0f54fb8-2318-40c8-85af-48c59226f6c7",
   "metadata": {},
   "outputs": [
    {
     "data": {
      "text/plain": [
       "\"Hi Alok! It's great to meet you.  \\n\\nWhat kind of AI projects are you working on these days? Are you focused on a particular area like computer vision, natural language processing, or something else?  I'm always interested in learning about the cool things people are building with AI. 😊  \\n\\n\""
      ]
     },
     "execution_count": 56,
     "metadata": {},
     "output_type": "execute_result"
    }
   ],
   "source": [
    "response.content"
   ]
  },
  {
   "cell_type": "code",
   "execution_count": 58,
   "id": "3e1c5236-d69f-4cd2-ae15-ba1d1f5e96b4",
   "metadata": {},
   "outputs": [
    {
     "data": {
      "text/plain": [
       "AIMessage(content='Your name is Alok. 😊  I remember that you introduced yourself at the beginning of our conversation.  \\n', additional_kwargs={}, response_metadata={'token_usage': {'completion_tokens': 25, 'prompt_tokens': 185, 'total_tokens': 210, 'completion_time': 0.045454545, 'prompt_time': 0.007582296, 'queue_time': 0.233232709, 'total_time': 0.053036841}, 'model_name': 'Gemma2-9b-It', 'system_fingerprint': 'fp_10c08bf97d', 'finish_reason': 'stop', 'logprobs': None}, id='run-f29b3b42-7b98-48b2-92d9-bca1e9f3f6ce-0', usage_metadata={'input_tokens': 185, 'output_tokens': 25, 'total_tokens': 210})"
      ]
     },
     "execution_count": 58,
     "metadata": {},
     "output_type": "execute_result"
    }
   ],
   "source": [
    "with_message_history.invoke(\n",
    "    [HumanMessage(content = \"What is my name?\")],\n",
    "    config = config\n",
    ")"
   ]
  },
  {
   "cell_type": "code",
   "execution_count": 60,
   "id": "2ea9fdd0-9439-4ea5-b35e-e6b11f31c476",
   "metadata": {},
   "outputs": [
    {
     "data": {
      "text/plain": [
       "AIMessage(content=\"As an AI, I have no memory of past conversations and do not know your name. If you'd like to tell me, I'd be happy to know! 😊\\n\", additional_kwargs={}, response_metadata={'token_usage': {'completion_tokens': 39, 'prompt_tokens': 14, 'total_tokens': 53, 'completion_time': 0.070909091, 'prompt_time': 0.001927946, 'queue_time': 0.23523087499999998, 'total_time': 0.072837037}, 'model_name': 'Gemma2-9b-It', 'system_fingerprint': 'fp_10c08bf97d', 'finish_reason': 'stop', 'logprobs': None}, id='run-60f9d9bd-a4f2-451f-88ac-4ce33af5a150-0', usage_metadata={'input_tokens': 14, 'output_tokens': 39, 'total_tokens': 53})"
      ]
     },
     "execution_count": 60,
     "metadata": {},
     "output_type": "execute_result"
    }
   ],
   "source": [
    "config1 = {\"configurable\":{\"session_id\":\"chat2\"}}\n",
    "\n",
    "with_message_history.invoke(\n",
    "    [HumanMessage(content = \"What is my name?\")],\n",
    "    config = config1\n",
    ")"
   ]
  },
  {
   "cell_type": "code",
   "execution_count": 62,
   "id": "e9e9112e-3caa-46b7-90b9-9768fa7d9685",
   "metadata": {},
   "outputs": [],
   "source": [
    "prompt = ChatPromptTemplate.from_messages(\n",
    "    [\n",
    "        (\"system\",\"you are hlpful assistant. Answer all the questions to the nest of your ability\"),\n",
    "        MessagesPlaceholder(variable_name = \"messages\")\n",
    "    ]\n",
    ")\n",
    "\n",
    "chain = prompt|model"
   ]
  },
  {
   "cell_type": "code",
   "execution_count": 63,
   "id": "945428dd-ab55-412f-9da2-d97c5039d736",
   "metadata": {},
   "outputs": [
    {
     "data": {
      "text/plain": [
       "AIMessage(content='Hi Alok! Nice to meet you. \\n\\nHow can I be helpful today?  \\n\\nAsk me anything! 😊  \\n\\n', additional_kwargs={}, response_metadata={'token_usage': {'completion_tokens': 30, 'prompt_tokens': 32, 'total_tokens': 62, 'completion_time': 0.054545455, 'prompt_time': 0.002364067, 'queue_time': 0.234520408, 'total_time': 0.056909522}, 'model_name': 'Gemma2-9b-It', 'system_fingerprint': 'fp_10c08bf97d', 'finish_reason': 'stop', 'logprobs': None}, id='run-1f9d6ce8-57bd-4d8b-a239-72903cc6d3ca-0', usage_metadata={'input_tokens': 32, 'output_tokens': 30, 'total_tokens': 62})"
      ]
     },
     "execution_count": 63,
     "metadata": {},
     "output_type": "execute_result"
    }
   ],
   "source": [
    "chain.invoke({\"messages\":[HumanMessage(content=\"Hi my name is Alok\")]})"
   ]
  },
  {
   "cell_type": "code",
   "execution_count": 64,
   "id": "d81a2e0e-0d8e-4c0a-afeb-c5533fb498c6",
   "metadata": {},
   "outputs": [],
   "source": [
    "with_message_history = RunnableWithMessageHistory(chain,get_session_history)\n",
    "config = {\"configurable\":{\"session_id\":\"chat3\"}}"
   ]
  },
  {
   "cell_type": "code",
   "execution_count": 65,
   "id": "11c45642-47d1-4b19-a352-dfe20bbeb669",
   "metadata": {},
   "outputs": [
    {
     "data": {
      "text/plain": [
       "AIMessage(content=\"Hello Alok!\\n\\nIt's nice to meet you. I'm happy to be your helpful assistant. \\n\\nAsk me anything! I'll do my best to answer your questions thoroughly and helpfully.  \\n\\nWhat can I do for you today? 😊  \\n\\n\", additional_kwargs={}, response_metadata={'token_usage': {'completion_tokens': 60, 'prompt_tokens': 31, 'total_tokens': 91, 'completion_time': 0.109090909, 'prompt_time': 0.002423036, 'queue_time': 0.234762249, 'total_time': 0.111513945}, 'model_name': 'Gemma2-9b-It', 'system_fingerprint': 'fp_10c08bf97d', 'finish_reason': 'stop', 'logprobs': None}, id='run-a8f32647-82ba-480d-8679-618fdc2706cb-0', usage_metadata={'input_tokens': 31, 'output_tokens': 60, 'total_tokens': 91})"
      ]
     },
     "execution_count": 65,
     "metadata": {},
     "output_type": "execute_result"
    }
   ],
   "source": [
    "response = with_message_history.invoke(\n",
    "    [HumanMessage(content=\"My name is Alok\")],\n",
    "    config = config\n",
    ")\n",
    "\n",
    "response"
   ]
  },
  {
   "cell_type": "code",
   "execution_count": 68,
   "id": "054941ec-0f07-4551-a92f-a782c05ef0fb",
   "metadata": {},
   "outputs": [
    {
     "data": {
      "text/plain": [
       "\"Your name is Alok.  \\n\\nI'm here to help, but I'm starting to think you might be testing me! 😄  Is there anything else you'd like to know or talk about? \\n\\n\\n\\n\""
      ]
     },
     "execution_count": 68,
     "metadata": {},
     "output_type": "execute_result"
    }
   ],
   "source": [
    "response2 = with_message_history.invoke(\n",
    "    [HumanMessage(content=\"whats is My name?\")],\n",
    "    config = config\n",
    ")\n",
    "\n",
    "response2.content"
   ]
  },
  {
   "cell_type": "code",
   "execution_count": null,
   "id": "98824a51-fc3d-4fbd-8e16-aeee67f94c74",
   "metadata": {},
   "outputs": [],
   "source": [
    "session1_config = {\"configurable\": {\"session_id\": \"session_1\"}}\n",
    "session2_config = {\"configurable\": {\"session_id\": \"session_2\"}}\n",
    "\n",
    "response1 = with_message_history.invoke(\n",
    "    [HumanMessage(content=\"Hi, my name is Alok, and I am an AI engineer.\")],\n",
    "    config=session1_config\n",
    ")\n",
    "print(\"Session 1 - Response 1:\", response1.content)\n",
    "\n",
    "\n",
    "\n",
    "response2 = with_message_history.invoke(\n",
    "    [HumanMessage(content=\"What is my name?\")],\n",
    "    config=session1_config\n",
    ")\n",
    "print(\"Session 1 - Response 2:\", response2.content)\n",
    "\n",
    "\n",
    "\n",
    "response3 = with_message_history.invoke(\n",
    "    [HumanMessage(content=\"Do you remember my name?\")],\n",
    "    config=session2_config\n",
    ")\n",
    "print(\"Session 2 - Response 1:\", response3.content)\n"
   ]
  },
  {
   "cell_type": "code",
   "execution_count": null,
   "id": "28bf9194-325d-4814-bd0b-8932ca91f4f5",
   "metadata": {},
   "outputs": [],
   "source": []
  },
  {
   "cell_type": "code",
   "execution_count": 70,
   "id": "30423775-59c0-4466-b62a-dddf0de4584f",
   "metadata": {},
   "outputs": [],
   "source": [
    "##################### little complexity addition"
   ]
  },
  {
   "cell_type": "code",
   "execution_count": 71,
   "id": "ef31feda-8907-474a-ad23-0ea8f9ab0c20",
   "metadata": {},
   "outputs": [],
   "source": [
    "prompt = ChatPromptTemplate.from_messages(\n",
    "    [\n",
    "        (\"system\",\"you are hlpful assistant. Answer all the questions to the nest of your ability in {language}\"),\n",
    "        MessagesPlaceholder(variable_name = \"messages\")\n",
    "    ]\n",
    ")\n",
    "\n",
    "chain = prompt|model"
   ]
  },
  {
   "cell_type": "code",
   "execution_count": 72,
   "id": "030766a0-3cb5-4222-9463-f58b6c8a3ebc",
   "metadata": {},
   "outputs": [
    {
     "data": {
      "text/plain": [
       "'नमस्ते अलोक!  😊\\n\\nमैं आपकी मदद करने के लिए तैयार हूँ। आपके कोई सवाल हैं? \\n'"
      ]
     },
     "execution_count": 72,
     "metadata": {},
     "output_type": "execute_result"
    }
   ],
   "source": [
    "response = chain.invoke({\"messages\":[HumanMessage(content=\"Hi my name is Alok\")],\"language\":\"Hindi\"})\n",
    "\n",
    "response.content"
   ]
  },
  {
   "cell_type": "code",
   "execution_count": 89,
   "id": "32728237-5b97-4ba6-a7ae-2cb703c07132",
   "metadata": {},
   "outputs": [
    {
     "data": {
      "text/plain": [
       "'नमस्ते अलोक! \\n\\nमैं आपकी मदद करने के लिए यहाँ हूँ। आपके कोई सवाल हैं तो पूछने में संकोच न करें। मैं अपनी पूरी क्षमता के साथ उत्तर देने की कोशिश करूँगा। 😊\\n'"
      ]
     },
     "execution_count": 89,
     "metadata": {},
     "output_type": "execute_result"
    }
   ],
   "source": [
    "with_message_history = RunnableWithMessageHistory(\n",
    "    chain,\n",
    "    get_session_history,\n",
    "    input_messages_key=\"messages\"\n",
    ")\n",
    "\n",
    "config = {\"configurable\":{\"session_id\":\"chat5\"}}\n",
    "\n",
    "response = with_message_history.invoke(\n",
    "    {\"messages\":[HumanMessage(content=\"Hi I am Alok\")],\n",
    "     \"language\":\"Hindi\"},\n",
    "    config = config\n",
    ")\n",
    "\n",
    "response.content"
   ]
  },
  {
   "cell_type": "code",
   "execution_count": 93,
   "id": "0b02719a-559a-4d08-904f-f3e2ace1a991",
   "metadata": {},
   "outputs": [],
   "source": [
    "trimmer = trim_messages(\n",
    "    max_tokens = 70,\n",
    "    strategy = \"last\",\n",
    "    token_counter = model,\n",
    "    include_system = True,\n",
    "    allow_partial = False,\n",
    "    start_on = \"human\"\n",
    ")\n",
    "\n",
    "messages = [\n",
    "    SystemMessage(content=\"you are a good assistant\"),\n",
    "    HumanMessage(content = \"hi I am bob\"),\n",
    "    AIMessage(content = \"Hi\"),\n",
    "\n",
    "    HumanMessage(content = \"I like vanilla ice cream\"),\n",
    "    AIMessage(content = \"nice\"),\n",
    "\n",
    "    HumanMessage(content = \"what is 2+2\"),\n",
    "    AIMessage(content = \"4\"),\n",
    "\n",
    "    HumanMessage(content = \"thanks!\"),\n",
    "    AIMessage(content = \"no problem\"),\n",
    "\n",
    "    HumanMessage(content = \"havig fun?\"),\n",
    "    AIMessage(content = \"yes!\"),\n",
    "]"
   ]
  },
  {
   "cell_type": "code",
   "execution_count": 95,
   "id": "b07d8bbe-f4c3-44e3-ab6f-372c74e9ecea",
   "metadata": {},
   "outputs": [
    {
     "name": "stderr",
     "output_type": "stream",
     "text": [
      "None of PyTorch, TensorFlow >= 2.0, or Flax have been found. Models won't be available and only tokenizers, configuration and file/data utilities can be used.\n"
     ]
    },
    {
     "data": {
      "application/vnd.jupyter.widget-view+json": {
       "model_id": "1d0a4d74b37743d29aba8f54d7d21f3a",
       "version_major": 2,
       "version_minor": 0
      },
      "text/plain": [
       "tokenizer_config.json:   0%|          | 0.00/26.0 [00:00<?, ?B/s]"
      ]
     },
     "metadata": {},
     "output_type": "display_data"
    },
    {
     "name": "stderr",
     "output_type": "stream",
     "text": [
      "C:\\Users\\Hp\\anaconda3\\envs\\py310_env\\lib\\site-packages\\huggingface_hub\\file_download.py:142: UserWarning: `huggingface_hub` cache-system uses symlinks by default to efficiently store duplicated files but your machine does not support them in C:\\Users\\Hp\\.cache\\huggingface\\hub\\models--gpt2. Caching files will still work but in a degraded version that might require more space on your disk. This warning can be disabled by setting the `HF_HUB_DISABLE_SYMLINKS_WARNING` environment variable. For more details, see https://huggingface.co/docs/huggingface_hub/how-to-cache#limitations.\n",
      "To support symlinks on Windows, you either need to activate Developer Mode or to run Python as an administrator. In order to activate developer mode, see this article: https://docs.microsoft.com/en-us/windows/apps/get-started/enable-your-device-for-development\n",
      "  warnings.warn(message)\n"
     ]
    },
    {
     "data": {
      "application/vnd.jupyter.widget-view+json": {
       "model_id": "309734b14a9b4b1a911c17bba3d4c800",
       "version_major": 2,
       "version_minor": 0
      },
      "text/plain": [
       "vocab.json:   0%|          | 0.00/1.04M [00:00<?, ?B/s]"
      ]
     },
     "metadata": {},
     "output_type": "display_data"
    },
    {
     "data": {
      "application/vnd.jupyter.widget-view+json": {
       "model_id": "9f452c9f051146d8a2f26ed240b9052d",
       "version_major": 2,
       "version_minor": 0
      },
      "text/plain": [
       "merges.txt:   0%|          | 0.00/456k [00:00<?, ?B/s]"
      ]
     },
     "metadata": {},
     "output_type": "display_data"
    },
    {
     "data": {
      "application/vnd.jupyter.widget-view+json": {
       "model_id": "32e7652690854f7fa31cb3fb2d98f219",
       "version_major": 2,
       "version_minor": 0
      },
      "text/plain": [
       "tokenizer.json:   0%|          | 0.00/1.36M [00:00<?, ?B/s]"
      ]
     },
     "metadata": {},
     "output_type": "display_data"
    },
    {
     "data": {
      "application/vnd.jupyter.widget-view+json": {
       "model_id": "9832102f84a647e7bff81adcd7678338",
       "version_major": 2,
       "version_minor": 0
      },
      "text/plain": [
       "config.json:   0%|          | 0.00/665 [00:00<?, ?B/s]"
      ]
     },
     "metadata": {},
     "output_type": "display_data"
    },
    {
     "data": {
      "text/plain": [
       "[SystemMessage(content='you are a good assistant', additional_kwargs={}, response_metadata={}),\n",
       " HumanMessage(content='hi I am bob', additional_kwargs={}, response_metadata={}),\n",
       " AIMessage(content='Hi', additional_kwargs={}, response_metadata={}),\n",
       " HumanMessage(content='I like vanilla ice cream', additional_kwargs={}, response_metadata={}),\n",
       " AIMessage(content='nice', additional_kwargs={}, response_metadata={}),\n",
       " HumanMessage(content='what is 2+2', additional_kwargs={}, response_metadata={}),\n",
       " AIMessage(content='4', additional_kwargs={}, response_metadata={}),\n",
       " HumanMessage(content='thanks!', additional_kwargs={}, response_metadata={}),\n",
       " AIMessage(content='no problem', additional_kwargs={}, response_metadata={}),\n",
       " HumanMessage(content='havig fun?', additional_kwargs={}, response_metadata={}),\n",
       " AIMessage(content='yes!', additional_kwargs={}, response_metadata={})]"
      ]
     },
     "execution_count": 95,
     "metadata": {},
     "output_type": "execute_result"
    }
   ],
   "source": [
    "trimmer.invoke(messages)"
   ]
  },
  {
   "cell_type": "code",
   "execution_count": 101,
   "id": "26d8fee0-922e-4707-849b-7dd0b0da59a9",
   "metadata": {},
   "outputs": [
    {
     "data": {
      "text/plain": [
       "AIMessage(content='You said you like vanilla ice cream! 😄  \\n\\n\\n\\n', additional_kwargs={}, response_metadata={'token_usage': {'completion_tokens': 13, 'prompt_tokens': 119, 'total_tokens': 132, 'completion_time': 0.023636364, 'prompt_time': 0.005438142, 'queue_time': 0.23287908599999999, 'total_time': 0.029074506}, 'model_name': 'Gemma2-9b-It', 'system_fingerprint': 'fp_10c08bf97d', 'finish_reason': 'stop', 'logprobs': None}, id='run-06149dcf-bb4d-427f-ac5e-42418b29a3d9-0', usage_metadata={'input_tokens': 119, 'output_tokens': 13, 'total_tokens': 132})"
      ]
     },
     "execution_count": 101,
     "metadata": {},
     "output_type": "execute_result"
    }
   ],
   "source": [
    "chain = (RunnablePassthrough.assign(messages = itemgetter(\"messages\")|trimmer) | prompt | model )\n",
    "\n",
    "chain.invoke(\n",
    "    {\n",
    "    \"messages\":messages + [HumanMessage(content=\"what ice cream do I like?\")],\n",
    "     \"language\":\"English\"\n",
    "}\n",
    ")"
   ]
  },
  {
   "cell_type": "code",
   "execution_count": 102,
   "id": "dd3026e0-0ad7-4690-945b-0450d73b3d0c",
   "metadata": {},
   "outputs": [
    {
     "data": {
      "text/plain": [
       "AIMessage(content='22 \\n', additional_kwargs={}, response_metadata={'token_usage': {'completion_tokens': 6, 'prompt_tokens': 119, 'total_tokens': 125, 'completion_time': 0.010909091, 'prompt_time': 0.005391692, 'queue_time': 0.232858677, 'total_time': 0.016300783}, 'model_name': 'Gemma2-9b-It', 'system_fingerprint': 'fp_10c08bf97d', 'finish_reason': 'stop', 'logprobs': None}, id='run-2b308595-de21-487e-bd01-240359fa28fb-0', usage_metadata={'input_tokens': 119, 'output_tokens': 6, 'total_tokens': 125})"
      ]
     },
     "execution_count": 102,
     "metadata": {},
     "output_type": "execute_result"
    }
   ],
   "source": [
    "chain.invoke(\n",
    "    {\n",
    "    \"messages\":messages + [HumanMessage(content=\"what is 9+13\")],\n",
    "     \"language\":\"English\"\n",
    "}\n",
    ")"
   ]
  },
  {
   "cell_type": "code",
   "execution_count": 104,
   "id": "384e215f-3411-45d0-a2a2-364c1c2190f6",
   "metadata": {},
   "outputs": [],
   "source": [
    "with_message_history = RunnableWithMessageHistory(\n",
    "    chain,\n",
    "    get_session_history,\n",
    "    input_messages_key=\"messages\",\n",
    ")\n",
    "config = {\"configurable\":{\"session_id\":\"chat6\"}}"
   ]
  },
  {
   "cell_type": "code",
   "execution_count": 105,
   "id": "7e9b398d-b4f7-4580-925e-3f11a52cb81a",
   "metadata": {},
   "outputs": [
    {
     "data": {
      "text/plain": [
       "'22 🍦  '"
      ]
     },
     "execution_count": 105,
     "metadata": {},
     "output_type": "execute_result"
    }
   ],
   "source": [
    "response = with_message_history.invoke(\n",
    "    {\n",
    "    \"messages\":messages + [HumanMessage(content=\"what is 9+13\")],\n",
    "     \"language\":\"English\"\n",
    "},\n",
    "    config = config\n",
    ")\n",
    "\n",
    "response.content"
   ]
  },
  {
   "cell_type": "code",
   "execution_count": null,
   "id": "6b8fd642-43b8-4994-91ae-ca180c5f5a98",
   "metadata": {},
   "outputs": [],
   "source": []
  },
  {
   "cell_type": "code",
   "execution_count": 5,
   "id": "d6be2f52-fa6e-468a-8e65-0d5c0331178a",
   "metadata": {},
   "outputs": [],
   "source": [
    "######################### RAG system implementation ###################################"
   ]
  },
  {
   "cell_type": "code",
   "execution_count": null,
   "id": "b9957737-d000-4fd3-8971-0900f0cc5616",
   "metadata": {},
   "outputs": [],
   "source": []
  },
  {
   "cell_type": "code",
   "execution_count": 85,
   "id": "cabdfe37-8d09-43c4-9e31-a85df2c72f5f",
   "metadata": {},
   "outputs": [],
   "source": [
    "from langchain_core.documents import Document\n",
    "from langchain_chroma import Chroma\n",
    "from sentence_transformers import SentenceTransformer\n",
    "from langchain_chroma import Chroma\n",
    "# from langchain_huggingface import HuggingFaceEmbeddings\n",
    "from typing import List\n",
    "from langchain_core.runnables import RunnableLambda"
   ]
  },
  {
   "cell_type": "code",
   "execution_count": null,
   "id": "248efbf1-e568-4159-a930-1f7b4f794813",
   "metadata": {},
   "outputs": [],
   "source": []
  },
  {
   "cell_type": "code",
   "execution_count": 86,
   "id": "8bc3ba6b-c5e3-4fdf-90a0-dc03ee74e862",
   "metadata": {},
   "outputs": [],
   "source": [
    "documents = [\n",
    "    Document(\n",
    "        page_content = \"Dogs are great companions, known for their loyalty and friendliness\",\n",
    "        metadata = {\"source\": \"mammel-pets-doc\"},\n",
    "    ),\n",
    "    Document(\n",
    "        page_content = \"cats are independent pets that often enjoy their own space.\",\n",
    "        metadata = {\"source\": \"mammel-pets-doc\"},\n",
    "    ),\n",
    "    Document(\n",
    "        page_content = \"Goldfish are popular pets for beginners, requiring relatively simple care.\",\n",
    "        metadata = {\"source\": \"fish-pets-doc\"},\n",
    "    ),\n",
    "    Document(\n",
    "        page_content = \"Parrots are intelligent birds capable of mimicking human beings\",\n",
    "        metadata = {\"source\": \"bird-pets-doc\"},\n",
    "    ),\n",
    "    Document(\n",
    "        page_content = \"Rabbits are social animals that need plenty of space to hop around\",\n",
    "        metadata = {\"source\": \"mammel-pets-doc\"},\n",
    "    ),\n",
    "]"
   ]
  },
  {
   "cell_type": "code",
   "execution_count": 87,
   "id": "7ab8e5f1-9895-4b17-8d03-e18025b500cc",
   "metadata": {
    "scrolled": true
   },
   "outputs": [
    {
     "data": {
      "text/plain": [
       "[Document(metadata={'source': 'mammel-pets-doc'}, page_content='Dogs are great companions, known for their loyalty and friendliness'),\n",
       " Document(metadata={'source': 'mammel-pets-doc'}, page_content='cats are independent pets that often enjoy their own space.'),\n",
       " Document(metadata={'source': 'fish-pets-doc'}, page_content='Goldfish are popular pets for beginners, requiring relatively simple care.'),\n",
       " Document(metadata={'source': 'bird-pets-doc'}, page_content='Parrots are intelligent birds capable of mimicking human beings'),\n",
       " Document(metadata={'source': 'mammel-pets-doc'}, page_content='Rabbits are social animals that need plenty of space to hop around')]"
      ]
     },
     "execution_count": 87,
     "metadata": {},
     "output_type": "execute_result"
    }
   ],
   "source": [
    "documents"
   ]
  },
  {
   "cell_type": "code",
   "execution_count": 88,
   "id": "ceda3eb0-cb2b-49b7-a945-07a90af52ceb",
   "metadata": {},
   "outputs": [],
   "source": [
    "llm = ChatGroq(groq_api_key = GROQ_API_KEY, model = 'Llama3-8b-8192')"
   ]
  },
  {
   "cell_type": "code",
   "execution_count": 89,
   "id": "36d6bf22-3b15-480f-82db-9811ba39ee92",
   "metadata": {},
   "outputs": [],
   "source": [
    "vectorstore = Chroma.from_documents(documents,embedding_model)"
   ]
  },
  {
   "cell_type": "code",
   "execution_count": 90,
   "id": "88cdd32a-6a2a-46ee-87f9-7d298c6e0b67",
   "metadata": {},
   "outputs": [
    {
     "data": {
      "text/plain": [
       "<langchain_chroma.vectorstores.Chroma at 0x27e4bb63280>"
      ]
     },
     "execution_count": 90,
     "metadata": {},
     "output_type": "execute_result"
    }
   ],
   "source": [
    "vectorstore"
   ]
  },
  {
   "cell_type": "code",
   "execution_count": 91,
   "id": "e59f5a37-2195-4308-9bcd-6e8b7a5638ca",
   "metadata": {},
   "outputs": [
    {
     "data": {
      "text/plain": [
       "[Document(id='13eb34c2-06ce-49c1-a080-57023846e1c9', metadata={'source': 'mammel-pets-doc'}, page_content='cats are independent pets that often enjoy their own space.'),\n",
       " Document(id='02380838-ce7c-4168-99de-646cbbe71a2e', metadata={'source': 'mammel-pets-doc'}, page_content='cats are independent pets that often enjoy their own space.'),\n",
       " Document(id='1a082c80-0997-4c07-ba83-e1beff50e007', metadata={'source': 'mammel-pets-doc'}, page_content='cats are independent pets that often enjoy their own space.'),\n",
       " Document(id='fe4c6528-0240-4565-97a1-5e8e0d9d123e', metadata={'source': 'mammel-pets-doc'}, page_content='cats are independent pets that often enjoy their own space.')]"
      ]
     },
     "execution_count": 91,
     "metadata": {},
     "output_type": "execute_result"
    }
   ],
   "source": [
    "# async query\n",
    "\n",
    "await vectorstore.asimilarity_search(\"cat\")"
   ]
  },
  {
   "cell_type": "code",
   "execution_count": 92,
   "id": "bf45ed69-563f-4415-907d-cbd28526fb76",
   "metadata": {},
   "outputs": [
    {
     "data": {
      "text/plain": [
       "[(Document(id='13eb34c2-06ce-49c1-a080-57023846e1c9', metadata={'source': 'mammel-pets-doc'}, page_content='cats are independent pets that often enjoy their own space.'),\n",
       "  0.9351054430007935),\n",
       " (Document(id='02380838-ce7c-4168-99de-646cbbe71a2e', metadata={'source': 'mammel-pets-doc'}, page_content='cats are independent pets that often enjoy their own space.'),\n",
       "  0.9351054430007935),\n",
       " (Document(id='1a082c80-0997-4c07-ba83-e1beff50e007', metadata={'source': 'mammel-pets-doc'}, page_content='cats are independent pets that often enjoy their own space.'),\n",
       "  0.9351054430007935),\n",
       " (Document(id='fe4c6528-0240-4565-97a1-5e8e0d9d123e', metadata={'source': 'mammel-pets-doc'}, page_content='cats are independent pets that often enjoy their own space.'),\n",
       "  0.9351054430007935)]"
      ]
     },
     "execution_count": 92,
     "metadata": {},
     "output_type": "execute_result"
    }
   ],
   "source": [
    "await  vectorstore.asimilarity_search_with_score(\"cat\")"
   ]
  },
  {
   "cell_type": "code",
   "execution_count": 93,
   "id": "134aa239-cd45-4e43-8906-6033ee57f7b0",
   "metadata": {},
   "outputs": [],
   "source": [
    "# retrievers "
   ]
  },
  {
   "cell_type": "code",
   "execution_count": 94,
   "id": "97951ab3-8644-4347-8703-a9c50c55aeb3",
   "metadata": {},
   "outputs": [],
   "source": [
    "retriever = RunnableLambda(vectorstore.similarity_search).bind(k=1)"
   ]
  },
  {
   "cell_type": "code",
   "execution_count": 95,
   "id": "edb13fb2-d23a-4cc7-8bb5-0f0b97548481",
   "metadata": {},
   "outputs": [
    {
     "data": {
      "text/plain": [
       "[[Document(id='1a082c80-0997-4c07-ba83-e1beff50e007', metadata={'source': 'mammel-pets-doc'}, page_content='cats are independent pets that often enjoy their own space.')],\n",
       " [Document(id='ec0c59fa-322c-4423-a5e6-a53c84e973df', metadata={'source': 'mammel-pets-doc'}, page_content='Dogs are great companions, known for their loyalty and friendliness')]]"
      ]
     },
     "execution_count": 95,
     "metadata": {},
     "output_type": "execute_result"
    }
   ],
   "source": [
    "retriever.batch([\"cat\",\"dog\"])"
   ]
  },
  {
   "cell_type": "code",
   "execution_count": 96,
   "id": "fa2a480b-9fb8-4155-8dda-9426e5e5746a",
   "metadata": {},
   "outputs": [
    {
     "data": {
      "text/plain": [
       "[[Document(id='1a082c80-0997-4c07-ba83-e1beff50e007', metadata={'source': 'mammel-pets-doc'}, page_content='cats are independent pets that often enjoy their own space.')],\n",
       " [Document(id='ec0c59fa-322c-4423-a5e6-a53c84e973df', metadata={'source': 'mammel-pets-doc'}, page_content='Dogs are great companions, known for their loyalty and friendliness')]]"
      ]
     },
     "execution_count": 96,
     "metadata": {},
     "output_type": "execute_result"
    }
   ],
   "source": [
    "vectorstore.as_retriever(\n",
    "    search_type = \"similarity\",\n",
    "    search_kwargs = {\"k\":1}\n",
    ")\n",
    "retriever.batch([\"cat\",\"dog\"])"
   ]
  },
  {
   "cell_type": "code",
   "execution_count": 97,
   "id": "3262830e-cff1-44f3-8ff8-637cbd254b46",
   "metadata": {},
   "outputs": [],
   "source": [
    "message = \"\"\"\n",
    "Answer this question using the provided context only\n",
    "{question}\n",
    "Context:\n",
    "{context}\n",
    "\"\"\""
   ]
  },
  {
   "cell_type": "code",
   "execution_count": null,
   "id": "30f6d091-63b7-412d-a116-b1c60cc537c1",
   "metadata": {},
   "outputs": [],
   "source": []
  },
  {
   "cell_type": "code",
   "execution_count": 98,
   "id": "16d5625c-a6c3-48f4-bde6-db57a9737eee",
   "metadata": {},
   "outputs": [
    {
     "name": "stdout",
     "output_type": "stream",
     "text": [
      "According to the provided context, dogs are great companions, known for their loyalty and friendliness.\n"
     ]
    }
   ],
   "source": [
    "prompt = ChatPromptTemplate.from_messages([(\"human\",message)])\n",
    "\n",
    "rag_chain = {\"context\":retriever,\"question\":RunnablePassthrough()}|prompt|llm\n",
    "\n",
    "response = rag_chain.invoke(\"tell me about dogs\")\n",
    "\n",
    "print(response.content)"
   ]
  },
  {
   "cell_type": "code",
   "execution_count": null,
   "id": "8f171c47-b366-4184-8def-c5b12ed06411",
   "metadata": {},
   "outputs": [],
   "source": []
  },
  {
   "cell_type": "code",
   "execution_count": null,
   "id": "c2a7825c-d4b4-4bb1-8e7b-fb204c418af2",
   "metadata": {},
   "outputs": [],
   "source": []
  },
  {
   "cell_type": "code",
   "execution_count": null,
   "id": "38306ab8-1867-41f4-8e6f-ba4417289d06",
   "metadata": {},
   "outputs": [],
   "source": []
  }
 ],
 "metadata": {
  "kernelspec": {
   "display_name": "Python 3.10 (py310_env)",
   "language": "python",
   "name": "py310_env"
  },
  "language_info": {
   "codemirror_mode": {
    "name": "ipython",
    "version": 3
   },
   "file_extension": ".py",
   "mimetype": "text/x-python",
   "name": "python",
   "nbconvert_exporter": "python",
   "pygments_lexer": "ipython3",
   "version": "3.10.16"
  }
 },
 "nbformat": 4,
 "nbformat_minor": 5
}
